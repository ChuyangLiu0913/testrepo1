{
 "cells": [
  {
   "cell_type": "markdown",
   "id": "1e0570d2",
   "metadata": {},
   "source": [
    "# My Jupyter Notebook on IBM Watson Studio¶"
   ]
  },
  {
   "cell_type": "markdown",
   "id": "023f3f9f",
   "metadata": {},
   "source": [
    "#### Chuyang Liu\n",
    "#### Business Consultant"
   ]
  },
  {
   "cell_type": "markdown",
   "id": "30e424f8",
   "metadata": {},
   "source": [
    "##### I am interested in data science because I love to work with data"
   ]
  },
  {
   "cell_type": "markdown",
   "id": "fdb3d961",
   "metadata": {},
   "source": [
    "### cell5 will Print a string \"Hello IBM\""
   ]
  },
  {
   "cell_type": "code",
   "execution_count": 2,
   "id": "be58ba2b",
   "metadata": {},
   "outputs": [
    {
     "name": "stdout",
     "output_type": "stream",
     "text": [
      "Hello IBM\n"
     ]
    }
   ],
   "source": [
    "print(\"Hello IBM\")"
   ]
  },
  {
   "cell_type": "markdown",
   "id": "e4b73277",
   "metadata": {},
   "source": [
    "a=1"
   ]
  },
  {
   "cell_type": "markdown",
   "id": "6a461a4a",
   "metadata": {},
   "source": [
    "- aaa\n",
    "- bbb"
   ]
  }
 ],
 "metadata": {
  "kernelspec": {
   "display_name": "Python 3 (ipykernel)",
   "language": "python",
   "name": "python3"
  },
  "language_info": {
   "codemirror_mode": {
    "name": "ipython",
    "version": 3
   },
   "file_extension": ".py",
   "mimetype": "text/x-python",
   "name": "python",
   "nbconvert_exporter": "python",
   "pygments_lexer": "ipython3",
   "version": "3.9.12"
  }
 },
 "nbformat": 4,
 "nbformat_minor": 5
}
